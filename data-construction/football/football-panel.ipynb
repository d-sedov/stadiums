{
 "cells": [
  {
   "cell_type": "code",
   "execution_count": 1,
   "metadata": {},
   "outputs": [],
   "source": [
    "################################################################################                                                                                                                                                              \n",
    "################################################################################\n",
    "#\n",
    "# FILE: football-panel.ipynb\n",
    "#\n",
    "# BY: Dmitry Sedov \n",
    "#\n",
    "# CREATED: Mon Jul 27 2020\n",
    "#\n",
    "# DESC: This code constructs a panel dataset for visits to am. football stadiums.\n",
    "#\n",
    "# EXEC:\n",
    "#      \n",
    "################################################################################\n",
    "################################################################################"
   ]
  },
  {
   "cell_type": "code",
   "execution_count": 2,
   "metadata": {},
   "outputs": [],
   "source": [
    "################################## INPUT #######################################\n",
    "\n",
    "industries_unique = [22, 23, 31, 42, 44, 48, 51, 52,\n",
    "                     53, 54, 55, 61, 62, 71, 72, 81]\n",
    "\n",
    "industries = {11: [11], \n",
    "              21: [21], \n",
    "              22: [22], \n",
    "              23: [23], \n",
    "              31: [31, 32, 33], \n",
    "              32: [31, 32, 33], \n",
    "              33: [31, 32, 33], \n",
    "              42: [42], \n",
    "              44: [44, 45], \n",
    "              45: [44, 45], \n",
    "              48: [48, 49],\n",
    "              49: [48, 49], \n",
    "              51: [51], \n",
    "              52: [52], \n",
    "              53: [53], \n",
    "              54: [54], \n",
    "              55: [55], \n",
    "              56: [56], \n",
    "              61: [61], \n",
    "              62: [62], \n",
    "              71: [71], \n",
    "              72: [72],\n",
    "              81: [81], \n",
    "              92: [92]}\n",
    "\n",
    "naics_2dig = {11: 'Agriculture', \n",
    "              21: 'Mining', \n",
    "              22: 'Utilities', \n",
    "              23: 'Construction', \n",
    "              31: 'Manufacturing', \n",
    "              32: 'Manufacturing', \n",
    "              33: 'Manufacturing', \n",
    "              42: 'Wholesale', \n",
    "              44: 'Retail', \n",
    "              45: 'Retail', \n",
    "              48: 'Transportation',\n",
    "              49: 'Transportation', \n",
    "              51: 'Information', \n",
    "              52: 'Finance', \n",
    "              53: 'RealEstate', \n",
    "              54: 'Professional', \n",
    "              55: 'Management', \n",
    "              56: 'Administrative', \n",
    "              61: 'Education', \n",
    "              62: 'Health', \n",
    "              71: 'Recreation', \n",
    "              72: 'FoodAccommodation',\n",
    "              81: 'Other', \n",
    "              92: 'PublicAdministration'}\n",
    "\n",
    "################################################################################"
   ]
  },
  {
   "cell_type": "code",
   "execution_count": 3,
   "metadata": {},
   "outputs": [
    {
     "name": "stderr",
     "output_type": "stream",
     "text": [
      "/home/user/.local/lib/python3.6/site-packages/statsmodels/tools/_testing.py:19: FutureWarning: pandas.util.testing is deprecated. Use the functions in the public API at pandas.testing instead.\n",
      "  import pandas.util.testing as tm\n"
     ]
    }
   ],
   "source": [
    "################################ Libraries #####################################\n",
    "\n",
    "import sqlalchemy as db\n",
    "import pandas as pd\n",
    "\n",
    "import os\n",
    "from datetime import datetime\n",
    "\n",
    "import matplotlib.pyplot as plt\n",
    "import numpy as np\n",
    "import seaborn as sns\n",
    "\n",
    "################################################################################"
   ]
  },
  {
   "cell_type": "code",
   "execution_count": 4,
   "metadata": {},
   "outputs": [],
   "source": [
    "################################# Options ######################################\n",
    "\n",
    "pd.options.display.max_rows = 600\n",
    "\n",
    "################################################################################"
   ]
  },
  {
   "cell_type": "code",
   "execution_count": 5,
   "metadata": {},
   "outputs": [],
   "source": [
    "################################ Constants #####################################\n",
    "\n",
    "project_folder = '/home/user/projects/stadiums'\n",
    "teams_output_folder = os.path.join(project_folder, 'data/input/football/teams/')\n",
    "games_output_folder = os.path.join(project_folder, 'data/input/football/games/')\n",
    "\n",
    "################################################################################"
   ]
  },
  {
   "cell_type": "code",
   "execution_count": 6,
   "metadata": {},
   "outputs": [],
   "source": [
    "###################### Import stadiums and game dates ##########################\n",
    "\n",
    "stadiums = pd.read_csv(os.path.join(teams_output_folder,\n",
    "                                    'football_teams.csv'),\n",
    "                       usecols = ['name', 'code']\n",
    "                      )\n",
    "\n",
    "matching = pd.read_csv(os.path.join(teams_output_folder,\n",
    "                                    'football_matching.csv')\n",
    "                      )\n",
    "\n",
    "stadiums = pd.merge(stadiums, \n",
    "                    matching,\n",
    "                    on = 'name',\n",
    "                    how = 'inner',\n",
    "                    validate = 'one_to_one')\n",
    "\n",
    "stadiums.set_index('code', inplace = True)\n",
    "\n",
    "################################################################################"
   ]
  },
  {
   "cell_type": "code",
   "execution_count": 7,
   "metadata": {},
   "outputs": [],
   "source": [
    "############################ PostgreSQL connection #############################\n",
    "\n",
    "engine = db.create_engine('postgresql://{user}:{user_pass}@{host}/{dataname2}')\n",
    "\n",
    "################################################################################"
   ]
  },
  {
   "cell_type": "code",
   "execution_count": 8,
   "metadata": {},
   "outputs": [],
   "source": [
    "################ Import stadiums, visits and game dates ########################\n",
    "\n",
    "def import_games(year, code):\n",
    "    \"\"\"Read in and clean data for year-team.\"\"\"\n",
    "    # Set paths\n",
    "    games_year_folder = os.path.join(games_output_folder, str(year))\n",
    "    code_file_name_1 = code + '_season_games.csv'\n",
    "    code_file_name_2 = code + '_playoff_games.csv'\n",
    "    year_code_file_path_1 = os.path.join(games_year_folder, code_file_name_1)\n",
    "    year_code_file_path_2 = os.path.join(games_year_folder, code_file_name_2)\n",
    "    # Import\n",
    "    data = pd.read_csv(year_code_file_path_1)\n",
    "    if os.path.exists(year_code_file_path_2):\n",
    "        data = data.append(pd.read_csv(year_code_file_path_2), ignore_index = True)\n",
    "    # Filter for home games only\n",
    "    mask = data['Unnamed: 6_level_1'].isnull()\n",
    "    data = data[mask]\n",
    "    # Format dates\n",
    "    data['Date'] = (data['Date'] + \n",
    "                    ' ' + data['year'].astype('str')\n",
    "                   )\n",
    "    # Get rid of double-dates\n",
    "    # data['Date'] = data['Date'].apply(lambda x: x.split('(')[0].strip())\n",
    "    data.drop_duplicates(subset = ['Date'], inplace = True)\n",
    "    \n",
    "    data['Date'] = pd.to_datetime(data['Date'], format = '%B %d %Y')\n",
    "        \n",
    "    return data[['Date', 'team_code']]\n",
    "\n",
    "def import_visits(year, sg_id):\n",
    "    \"\"\"Read in the SG visits data.\"\"\"\n",
    "    \n",
    "    search_query = f\"\"\"\n",
    "    SELECT \n",
    "        sname_place_id,\n",
    "        year,\n",
    "        month,\n",
    "        raw_visit_counts,\n",
    "        visits_by_day\n",
    "    FROM \n",
    "        visits\n",
    "    WHERE\n",
    "        sname_place_id = '{sg_id}'\n",
    "    AND\n",
    "        year = {year}\n",
    "    ;\n",
    "    \"\"\"\n",
    "    results = pd.read_sql(search_query, con = engine)\n",
    "    rows = []\n",
    "    _ = results.apply(lambda row: [rows.append([row['sname_place_id'],\n",
    "                                                row['year'],\n",
    "                                                row['month'],\n",
    "                                                day + 1,\n",
    "                                                v]) \n",
    "                                   for day, v in enumerate(row.visits_by_day)],\n",
    "                      axis = 1)\n",
    "    results = pd.DataFrame(rows,\n",
    "                           columns = ['sname_place_id', \n",
    "                                      'year', \n",
    "                                      'month', \n",
    "                                      'day', \n",
    "                                      'stadium_visits'])\n",
    "    results.sort_values(['year', 'month', 'day'], inplace = True)\n",
    "    results['Date'] = results[['day', \n",
    "                               'month', \n",
    "                               'year']\n",
    "                             ].apply(lambda x: ' '.join(x.map(str)), \n",
    "                                     axis = 1)\n",
    "    results['Date'] = pd.to_datetime(results['Date'], \n",
    "                                     format = '%d %m %Y')\n",
    "    results = results[['sname_place_id', 'Date', 'year', 'month', 'day', 'stadium_visits']]\n",
    "    return results\n",
    "\n",
    "def import_games_visits(year, code):\n",
    "    \n",
    "    games = import_games(year, code)\n",
    "    if year == 2017:\n",
    "        sg_id = stadiums.at[code, 'sg_id_2017']\n",
    "    elif year == 2018:\n",
    "        sg_id = stadiums.at[code, 'sg_id_2018']\n",
    "    elif year == 2019:\n",
    "        sg_id = stadiums.at[code, 'sg_id_2019']\n",
    "    visits = import_visits(year, sg_id)\n",
    "    \n",
    "    data = pd.merge(visits, \n",
    "                    games,\n",
    "                    on = 'Date',\n",
    "                    how = 'left',\n",
    "                    validate = 'one_to_one')\n",
    "    \n",
    "    data['game'] = 1 - data['team_code'].isnull().astype('int')\n",
    "    data['team'] = code\n",
    "    \n",
    "    # Manual entry of games for playoff-participating teams\n",
    "    if code == 'nor':\n",
    "        data.loc[data.Date == '2018-01-07', 'game'] = 1\n",
    "    if code == 'min':\n",
    "        data.loc[data.Date == '2018-01-14', 'game'] = 1\n",
    "        data.loc[data.Date == '2018-02-04', 'game'] = 1\n",
    "    if code == 'phi':\n",
    "        data.loc[data.Date == '2018-01-13', 'game'] = 1\n",
    "        data.loc[data.Date == '2018-01-21', 'game'] = 1\n",
    "    if code == 'ram':\n",
    "        data.loc[data.Date == '2018-01-06', 'game'] = 1\n",
    "    if code == 'jax':\n",
    "        data.loc[data.Date == '2018-01-07', 'game'] = 1\n",
    "    if code == 'kan':\n",
    "        data.loc[data.Date == '2018-01-06', 'game'] = 1\n",
    "    if code == 'pit':\n",
    "        data.loc[data.Date == '2018-01-14', 'game'] = 1\n",
    "    if code == 'nwe':\n",
    "        data.loc[data.Date == '2018-01-13', 'game'] = 1\n",
    "        data.loc[data.Date == '2018-01-21', 'game'] = 1\n",
    "    \n",
    "    # Visits to integer\n",
    "    data['stadium_visits'] = data['stadium_visits'].astype('int')\n",
    "    \n",
    "    return data\n",
    "\n",
    "def import_code_data(code):\n",
    "    \"\"\"Get data for all three years for a team code.\"\"\"\n",
    "    \n",
    "    data = [import_games_visits(y, code) for y in range(2017, 2019)]\n",
    "    \n",
    "    return pd.concat(data).reset_index(drop = True)\n",
    "\n",
    "################################################################################"
   ]
  },
  {
   "cell_type": "code",
   "execution_count": 9,
   "metadata": {},
   "outputs": [],
   "source": [
    "test2 = import_code_data('pit')"
   ]
  },
  {
   "cell_type": "code",
   "execution_count": 10,
   "metadata": {},
   "outputs": [
    {
     "data": {
      "text/plain": [
       "<matplotlib.axes._subplots.AxesSubplot at 0x7f0706dbc9e8>"
      ]
     },
     "execution_count": 10,
     "metadata": {},
     "output_type": "execute_result"
    },
    {
     "data": {
      "image/png": "[encoded data removed]",
      "text/plain": [
       "<Figure size 432x288 with 1 Axes>"
      ]
     },
     "metadata": {
      "needs_background": "light"
     },
     "output_type": "display_data"
    }
   ],
   "source": [
    "test2.boxplot(column = ['stadium_visits'], by = 'game')"
   ]
  },
  {
   "cell_type": "code",
   "execution_count": 11,
   "metadata": {},
   "outputs": [
    {
     "data": {
      "image/png": "[encoded data removed]",
      "text/plain": [
       "<Figure size 432x288 with 1 Axes>"
      ]
     },
     "metadata": {
      "needs_background": "light"
     },
     "output_type": "display_data"
    }
   ],
   "source": [
    "ax = test2.plot(x = 'Date', y = 'stadium_visits')\n",
    "\n",
    "def highlight(indices, ax):\n",
    "    i = 0\n",
    "    while i < len(indices) - 1:\n",
    "        ax.axvspan(test2.Date[indices[i]], \n",
    "                   test2.Date[indices[i] + 2],\n",
    "                   facecolor = 'red', \n",
    "                   edgecolor = 'none',\n",
    "                   alpha = 0.25)\n",
    "        i += 1\n",
    "        \n",
    "highlight(test2[test2['game'] == 1].index, ax)"
   ]
  },
  {
   "cell_type": "code",
   "execution_count": 12,
   "metadata": {},
   "outputs": [],
   "source": [
    "data = [import_code_data(x) for x in stadiums.index]"
   ]
  },
  {
   "cell_type": "code",
   "execution_count": 13,
   "metadata": {},
   "outputs": [],
   "source": [
    "data = pd.concat(data).reset_index(drop = True)"
   ]
  },
  {
   "cell_type": "code",
   "execution_count": 14,
   "metadata": {},
   "outputs": [],
   "source": [
    "# Stadiums with two associated teams: get one stadium only\n",
    "data.rename(columns = {'sname_place_id': 'stadium_id'}, inplace = True)\n",
    "data = data.sort_values('game', \n",
    "                        ascending = False\n",
    "                       ).groupby(['stadium_id', 'Date']\n",
    "                                ).first().reset_index()"
   ]
  },
  {
   "cell_type": "code",
   "execution_count": 15,
   "metadata": {},
   "outputs": [
    {
     "data": {
      "text/plain": [
       "<matplotlib.axes._subplots.AxesSubplot at 0x7f07047c0c88>"
      ]
     },
     "execution_count": 15,
     "metadata": {},
     "output_type": "execute_result"
    },
    {
     "data": {
      "image/png": "[encoded data removed]",
      "text/plain": [
       "<Figure size 432x288 with 1 Axes>"
      ]
     },
     "metadata": {
      "needs_background": "light"
     },
     "output_type": "display_data"
    }
   ],
   "source": [
    "# Plot the visits time series\n",
    "by_date = data[['Date', 'stadium_visits']].groupby('Date').mean()\n",
    "by_date['7-day moving average'] = by_date.rolling(window = 7).mean()\n",
    "by_date.plot()"
   ]
  },
  {
   "cell_type": "code",
   "execution_count": 16,
   "metadata": {},
   "outputs": [
    {
     "data": {
      "text/plain": [
       "<matplotlib.axes._subplots.AxesSubplot at 0x7f07046ed8d0>"
      ]
     },
     "execution_count": 16,
     "metadata": {},
     "output_type": "execute_result"
    },
    {
     "data": {
      "image/png": "[encoded data removed]",
      "text/plain": [
       "<Figure size 432x288 with 1 Axes>"
      ]
     },
     "metadata": {
      "needs_background": "light"
     },
     "output_type": "display_data"
    }
   ],
   "source": [
    "# Plot the visits by game status by team\n",
    "by_game_status = data[['team', 'game', 'stadium_visits']\n",
    "                     ].groupby(['team', 'game']\n",
    "                              ).mean()\n",
    "by_game_status.reset_index(inplace = True)\n",
    "by_game_status = pd.pivot_table(by_game_status, values = 'stadium_visits', index = 'team', columns = 'game')\n",
    "by_game_status.columns = ['no_game', 'game']\n",
    "by_game_status.plot.barh()"
   ]
  },
  {
   "cell_type": "code",
   "execution_count": 17,
   "metadata": {},
   "outputs": [],
   "source": [
    "############### Insert new stadiums from the establishments table ##############\n",
    "\n",
    "engine = db.create_engine('postgresql://{user}:{user_pass}@{host}/{dataname2}')\n",
    "\n",
    "# Create a list of sname_place_ids of stadiums\n",
    "stadiums_sg_ids = stadiums[['sg_id_2017', \n",
    "                            'sg_id_2018']].stack().reset_index()[0]\n",
    "\n",
    "stadiums_sg_ids = \"('\" + \"','\".join(list(set(stadiums_sg_ids.to_list()))) + \"')\"\n",
    "\n",
    "create_stadiums_table_statement = f\"\"\"\n",
    "DELETE FROM stadiums\n",
    "WHERE sport = 'football';\n",
    "\n",
    "INSERT INTO stadiums \n",
    "SELECT \n",
    "    *,\n",
    "    'football' as sport\n",
    "FROM\n",
    "    establishments \n",
    "WHERE\n",
    "    sname_place_id IN {stadiums_sg_ids}\n",
    "\"\"\"\n",
    "\n",
    "with engine.connect() as connection:\n",
    "    result = connection.execute(create_stadiums_table_statement)\n",
    "\n",
    "engine.dispose()\n",
    "\n",
    "################################################################################"
   ]
  },
  {
   "cell_type": "code",
   "execution_count": 20,
   "metadata": {},
   "outputs": [
    {
     "name": "stdout",
     "output_type": "stream",
     "text": [
      "Utilities\n",
      "Construction\n",
      "Manufacturing\n",
      "Wholesale\n",
      "Retail\n",
      "Transportation\n",
      "Information\n",
      "Finance\n",
      "RealEstate\n",
      "Professional\n",
      "Management\n",
      "Education\n",
      "Health\n",
      "Recreation\n",
      "FoodAccommodation\n",
      "Other\n"
     ]
    }
   ],
   "source": [
    "for industry in industries_unique:\n",
    "    \n",
    "    print(naics_2dig[industry])\n",
    "\n",
    "    engine = db.create_engine('postgresql://{user}:{user_pass}@{host}/{dataname2}')\n",
    "\n",
    "############ Create versions of the tables with geography ######################\n",
    "\n",
    "    create_temp_stadiums_table_with_geo = \"\"\"\n",
    "    CREATE TEMPORARY TABLE IF NOT EXISTS stadiums_with_geo AS\n",
    "    SELECT\n",
    "        sname_place_id,\n",
    "        ST_SetSRID(ST_POINT(longitude, latitude), 4326)::geography AS s_location\n",
    "    FROM\n",
    "        stadiums\n",
    "    WHERE \n",
    "        sport = 'football'\n",
    "        ;\n",
    "\n",
    "    CREATE INDEX IF NOT EXISTS stadiums_with_geo_sg_idx\n",
    "    ON stadiums_with_geo (sname_place_id);\n",
    "\n",
    "    CREATE INDEX IF NOT EXISTS stadiums_with_geo_location_idx\n",
    "    ON stadiums_with_geo\n",
    "    USING GIST(s_location);\n",
    "    \"\"\"\n",
    "\n",
    "    industry_codes = f\"{industries[industry]}\".replace('[', '(').replace(']', ')')\n",
    "\n",
    "    if industry == 72:\n",
    "        create_temp_places_table_with_geo = f\"\"\"\n",
    "        CREATE TEMPORARY TABLE IF NOT EXISTS places_with_geo AS\n",
    "        SELECT\n",
    "            sname_place_id,\n",
    "            ST_SetSRID(ST_POINT(longitude, latitude), 4326)::geography AS p_location\n",
    "        FROM\n",
    "            establishments\n",
    "        WHERE\n",
    "            naics_code / 10000 IN {industry_codes}\n",
    "        UNION\n",
    "        SELECT\n",
    "            sname_place_id,\n",
    "            ST_SetSRID(ST_POINT(longitude, latitude), 4326)::geography AS p_location\n",
    "        FROM\n",
    "            restaurants\n",
    "        ;\n",
    "        \"\"\"\n",
    "    else:\n",
    "        create_temp_places_table_with_geo = f\"\"\"\n",
    "        CREATE TEMPORARY TABLE IF NOT EXISTS places_with_geo AS\n",
    "        SELECT\n",
    "            sname_place_id,\n",
    "            ST_SetSRID(ST_POINT(longitude, latitude), 4326)::geography AS p_location\n",
    "        FROM\n",
    "            establishments\n",
    "        WHERE\n",
    "            naics_code / 10000 IN {industry_codes}\n",
    "        ;\n",
    "        \"\"\"\n",
    "\n",
    "\n",
    "\n",
    "    create_temp_places_table_with_geo += \"\"\"\n",
    "        CREATE INDEX IF NOT EXISTS places_with_geo_sg_idx\n",
    "        ON places_with_geo (sname_place_id);\n",
    "\n",
    "        CREATE INDEX IF NOT EXISTS places_with_geo_location_idx\n",
    "        ON places_with_geo\n",
    "        USING GIST(p_location);\n",
    "        \"\"\"\n",
    "\n",
    "\n",
    "\n",
    "    with engine.connect() as connection:\n",
    "        result = connection.execute(create_temp_stadiums_table_with_geo)\n",
    "\n",
    "    with engine.connect() as connection:\n",
    "        result = connection.execute(create_temp_places_table_with_geo)\n",
    "\n",
    "################################################################################\n",
    "\n",
    "################## Perform a left join stadiums - places #######################\n",
    "\n",
    "    select_places_close_to_stadiums = \"\"\"\n",
    "    WITH joined_by_distance AS (\n",
    "    SELECT\n",
    "        p.sname_place_id AS place_id,\n",
    "        s.sname_place_id AS stadium_id,\n",
    "        ST_Distance(s.s_location, p.p_location) AS distance\n",
    "    FROM\n",
    "        stadiums_with_geo AS s\n",
    "    LEFT JOIN\n",
    "        places_with_geo AS p\n",
    "    ON\n",
    "        ST_DWithin(s.s_location, p.p_location, 3000)\n",
    "    AND\n",
    "        s.sname_place_id != p.sname_place_id)\n",
    "    SELECT \n",
    "        j.*,\n",
    "        v.year,\n",
    "        v.month,\n",
    "        v.visits_by_day\n",
    "    FROM \n",
    "        joined_by_distance AS j\n",
    "    INNER JOIN\n",
    "        visits AS v\n",
    "    ON\n",
    "        j.place_id = v.sname_place_id\n",
    "    WHERE \n",
    "        year = 2018;\n",
    "    \"\"\"\n",
    "\n",
    "    places_close_to_stadiums = pd.read_sql(select_places_close_to_stadiums, \n",
    "                                           con = engine)\n",
    "\n",
    "################################################################################\n",
    "    rows = []\n",
    "    _ = places_close_to_stadiums.apply(lambda row: [rows.append([row['place_id'],\n",
    "                                                                 row['stadium_id'],\n",
    "                                                                 row['distance'],\n",
    "                                                                 row['year'],\n",
    "                                                                 row['month'],\n",
    "                                                                 day + 1,\n",
    "                                                                 v])\n",
    "                                                    for day, v in enumerate(row.visits_by_day)],\n",
    "                                       axis = 1)\n",
    "    places_close_to_stadiums = pd.DataFrame(rows,\n",
    "                                            columns = ['place_id',\n",
    "                                                       'stadium_id',\n",
    "                                                       'distance',\n",
    "                                                       'year', \n",
    "                                                       'month', \n",
    "                                                       'day', \n",
    "                                                       'visits'])\n",
    "\n",
    "    engine.dispose()\n",
    "\n",
    "    places_close_to_stadiums = pd.merge(places_close_to_stadiums,\n",
    "                                        data, \n",
    "                                        how = 'left', \n",
    "                                        on = ['stadium_id', \n",
    "                                              'year', \n",
    "                                              'month', \n",
    "                                              'day'], \n",
    "                                        validate = 'many_to_one')\n",
    "\n",
    "    places_close_to_stadiums['dow'] = places_close_to_stadiums['Date'].apply(lambda x: x.weekday())\n",
    "\n",
    "    places_close_to_stadiums.drop(columns = ['year', 'day', 'team', 'team_code'], inplace = True)\n",
    "\n",
    "    # Drop stadiums which were built later than the sample, or for which \n",
    "    # not enough data is available\n",
    "    mask = places_close_to_stadiums['dow'].isnull()\n",
    "    places_close_to_stadiums[mask].stadium_id.unique()\n",
    "    places_close_to_stadiums.dropna(subset = [x for x in places_close_to_stadiums.columns], \n",
    "                                    inplace = True)\n",
    "    places_close_to_stadiums['dow'] = places_close_to_stadiums['dow'].astype('int')\n",
    "    places_close_to_stadiums['month'] = places_close_to_stadiums['month'].astype('int')\n",
    "    places_close_to_stadiums['stadium_visits'] = places_close_to_stadiums['stadium_visits'].astype('int')\n",
    "    places_close_to_stadiums['game'] = places_close_to_stadiums['game'].astype('int')\n",
    "\n",
    "    file_name = f'stadiums_{naics_2dig[industry]}.dta'\n",
    "    outfile_path = os.path.join(project_folder, \n",
    "                                'data/processed/analysis',\n",
    "                                'football',\n",
    "                                file_name)\n",
    "    places_close_to_stadiums.to_stata(path = outfile_path,\n",
    "                                      convert_dates = {'Date': 'td'}, \n",
    "                                      write_index = False)"
   ]
  },
  {
   "cell_type": "code",
   "execution_count": null,
   "metadata": {},
   "outputs": [],
   "source": []
  }
 ],
 "metadata": {
  "kernelspec": {
   "display_name": "Python 3",
   "language": "python",
   "name": "python3"
  },
  "language_info": {
   "codemirror_mode": {
    "name": "ipython",
    "version": 3
   },
   "file_extension": ".py",
   "mimetype": "text/x-python",
   "name": "python",
   "nbconvert_exporter": "python",
   "pygments_lexer": "ipython3",
   "version": "3.6.9"
  }
 },
 "nbformat": 4,
 "nbformat_minor": 4
}
