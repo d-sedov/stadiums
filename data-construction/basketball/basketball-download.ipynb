{
 "cells": [
  {
   "cell_type": "code",
   "execution_count": null,
   "metadata": {},
   "outputs": [],
   "source": [
    "################################################################################                                                                                                                                                              \n",
    "################################################################################\n",
    "#\n",
    "# FILE: basketball-download.py\n",
    "#\n",
    "# BY: Dmitry Sedov \n",
    "#\n",
    "# CREATED: Tue Apr 14 2020\n",
    "#\n",
    "# DESC: This code downloads data about basketball teams / games from \n",
    "#       https://www.basketball-reference.com\n",
    "#\n",
    "# EXEC:\n",
    "#      \n",
    "################################################################################\n",
    "################################################################################"
   ]
  },
  {
   "cell_type": "code",
   "execution_count": null,
   "metadata": {},
   "outputs": [],
   "source": [
    "################################ Libraries #####################################\n",
    "\n",
    "import pandas as pd\n",
    "from bs4 import BeautifulSoup\n",
    "import requests\n",
    "import re\n",
    "import os\n",
    "\n",
    "################################################################################"
   ]
  },
  {
   "cell_type": "code",
   "execution_count": null,
   "metadata": {},
   "outputs": [],
   "source": [
    "################################ Constants #####################################\n",
    "\n",
    "main_url = 'https://www.basketball-reference.com'\n",
    "teams_url = 'https://www.basketball-reference.com/teams/'\n",
    "wiki_url = 'https://en.wikipedia.org/wiki/National_Basketball_Association'\n",
    "teams_output_folder = '/Users/muser/dfolder/Research/stadiums/data/basketball/teams/'\n",
    "games_output_folder = '/Users/muser/dfolder/Research/stadiums/data/basketball/games/'\n",
    "\n",
    "################################################################################"
   ]
  },
  {
   "cell_type": "code",
   "execution_count": null,
   "metadata": {},
   "outputs": [],
   "source": [
    "######################### Get list of all teams ################################\n",
    "\n",
    "teams_page = requests.get(teams_url).text\n",
    "teams_soup = BeautifulSoup(teams_page)\n",
    "active_teams_table = teams_soup.find('table', {'id': 'teams_active'})\n",
    "head = str(active_teams_table.find('thead'))\n",
    "rows = '\\n'.join(str(x) for x in active_teams_table.find_all('tr', {'class': 'full_table'}))\n",
    "active_teams_table = '<table>\\n' + head + '\\n<tbody>\\n' + rows + '\\n</tbody>\\n' + '</table>'\n",
    "active_teams_table = pd.read_html(active_teams_table)\n",
    "active_teams_table = active_teams_table[0]\n",
    "active_teams_table.rename(columns = {'Franchise': 'name'}, inplace = True)\n",
    "\n",
    "################################################################################"
   ]
  },
  {
   "cell_type": "code",
   "execution_count": null,
   "metadata": {},
   "outputs": [],
   "source": [
    "active_teams_table"
   ]
  },
  {
   "cell_type": "code",
   "execution_count": null,
   "metadata": {},
   "outputs": [],
   "source": [
    "######################### Get links of all teams ###############################\n",
    "\n",
    "active_teams_links = teams_soup.find('table', {'id': 'teams_active'})\n",
    "temp = ({'link': tag['href'], \n",
    "         'name': tag.text} for tag in active_teams_links.find_all('a', \n",
    "                                                            attrs = {'class': None},\n",
    "                                                            href = True))\n",
    "active_teams_links = pd.DataFrame(temp)\n",
    "\n",
    "################################################################################"
   ]
  },
  {
   "cell_type": "code",
   "execution_count": null,
   "metadata": {},
   "outputs": [],
   "source": [
    "####################### Merge for a teams dataset ##############################\n",
    "\n",
    "basketball_teams = pd.merge(active_teams_table, \n",
    "                            active_teams_links, \n",
    "                            how = 'outer',\n",
    "                            on = 'name', \n",
    "                            validate = 'one_to_one')\n",
    "\n",
    "# Change links for some teams\n",
    "basketball_teams.loc[basketball_teams['name'] == 'Brooklyn Nets', 'link'] = '/teams/BRK/'\n",
    "basketball_teams.loc[basketball_teams['name'] == 'Charlotte Hornets', 'link'] = '/teams/CHO/'\n",
    "basketball_teams.loc[basketball_teams['name'] == 'New Orleans Pelicans', 'link'] = '/teams/NOP/'\n",
    "\n",
    "################################################################################"
   ]
  },
  {
   "cell_type": "code",
   "execution_count": null,
   "metadata": {},
   "outputs": [],
   "source": [
    "basketball_teams"
   ]
  },
  {
   "cell_type": "code",
   "execution_count": null,
   "metadata": {},
   "outputs": [],
   "source": [
    "####################### Function to get the stadium ############################\n",
    "\n",
    "pattern = re.compile(r'Arena')\n",
    "\n",
    "def get_stadium(link, year):\n",
    "    print(link)\n",
    "    team_year_url = main_url + link + str(year) + '.html'\n",
    "    team_year_soup = BeautifulSoup(requests.get(team_year_url).text, \n",
    "                                   'html.parser')\n",
    "    stadium = team_year_soup.find('strong',\n",
    "                                  text = pattern).next_sibling.strip()\n",
    "    return stadium\n",
    "    \n",
    "################################################################################"
   ]
  },
  {
   "cell_type": "code",
   "execution_count": null,
   "metadata": {},
   "outputs": [],
   "source": [
    "basketball_teams['stadium_2017'] = basketball_teams.apply(lambda row: get_stadium(row['link'], 2017),\n",
    "                                                          axis = 1)"
   ]
  },
  {
   "cell_type": "code",
   "execution_count": null,
   "metadata": {},
   "outputs": [],
   "source": [
    "basketball_teams['stadium_2018'] = basketball_teams.apply(lambda row: get_stadium(row['link'], 2018),\n",
    "                                                          axis = 1)"
   ]
  },
  {
   "cell_type": "code",
   "execution_count": null,
   "metadata": {},
   "outputs": [],
   "source": [
    "basketball_teams['stadium_2019'] = basketball_teams.apply(lambda row: get_stadium(row['link'], 2019),\n",
    "                                                          axis = 1)"
   ]
  },
  {
   "cell_type": "code",
   "execution_count": null,
   "metadata": {},
   "outputs": [],
   "source": [
    "basketball_teams['stadium_2020'] = basketball_teams.apply(lambda row: get_stadium(row['link'], 2020),\n",
    "                                                          axis = 1)"
   ]
  },
  {
   "cell_type": "code",
   "execution_count": null,
   "metadata": {},
   "outputs": [],
   "source": [
    "basketball_teams['code'] = basketball_teams['link'].apply(lambda x: x.split('/')[2])"
   ]
  },
  {
   "cell_type": "code",
   "execution_count": null,
   "metadata": {},
   "outputs": [],
   "source": [
    "basketball_teams"
   ]
  },
  {
   "cell_type": "code",
   "execution_count": null,
   "metadata": {},
   "outputs": [],
   "source": [
    "basketball_teams.to_csv(os.path.join(teams_output_folder, 'basketball_teams.csv'), \n",
    "                        index = False)"
   ]
  },
  {
   "cell_type": "code",
   "execution_count": null,
   "metadata": {},
   "outputs": [],
   "source": [
    "######################## Function to get the games ############################\n",
    "\n",
    "def get_games(link, year):\n",
    "    team_code = link.split('/')[2]\n",
    "    print(team_code)\n",
    "    schedule_year_url = main_url + link + str(year) + '_games.html'\n",
    "    schedule_tables = pd.read_html(schedule_year_url)\n",
    "    season = schedule_tables[0]\n",
    "    # Filter non-games rows out\n",
    "    mask = season.iloc[:,0].apply(lambda x: x.isdigit())\n",
    "    season_schedule_table = season.loc[mask].copy()\n",
    "    season_schedule_table['team_code'] = team_code\n",
    "    season_schedule_table.to_csv(os.path.join(games_output_folder,\n",
    "                                              str(year),\n",
    "                                              f'{team_code}_season_games.csv'),\n",
    "                                 index = False)\n",
    "    try:\n",
    "        playoff = schedule_tables[1]\n",
    "    except IndexError:\n",
    "        print(f'No playoffs for {team_code}.')\n",
    "        return None\n",
    "    try:\n",
    "        mask = playoff.iloc[:,0].apply(lambda x: x.isdigit())\n",
    "        playoff_schedule_table = playoff.loc[mask].copy()\n",
    "    except AttributeError:\n",
    "        playoff_schedule_table = playoff\n",
    "    playoff_schedule_table['team_code'] = team_code\n",
    "    playoff_schedule_table.to_csv(os.path.join(games_output_folder,\n",
    "                                               str(year),\n",
    "                                               f'{team_code}_playoff_games.csv'), \n",
    "                                  index = False)\n",
    "    return None\n",
    "    \n",
    "################################################################################"
   ]
  },
  {
   "cell_type": "code",
   "execution_count": null,
   "metadata": {},
   "outputs": [],
   "source": [
    "basketball_teams.apply(lambda row: get_games(row['link'], 2017), axis = 1)"
   ]
  },
  {
   "cell_type": "code",
   "execution_count": null,
   "metadata": {},
   "outputs": [],
   "source": [
    "basketball_teams.apply(lambda row: get_games(row['link'], 2018), axis = 1)"
   ]
  },
  {
   "cell_type": "code",
   "execution_count": null,
   "metadata": {},
   "outputs": [],
   "source": [
    "basketball_teams.apply(lambda row: get_games(row['link'], 2019), axis = 1)"
   ]
  },
  {
   "cell_type": "code",
   "execution_count": null,
   "metadata": {},
   "outputs": [],
   "source": [
    "basketball_teams.apply(lambda row: get_games(row['link'], 2020), axis = 1)"
   ]
  },
  {
   "cell_type": "code",
   "execution_count": null,
   "metadata": {},
   "outputs": [],
   "source": [
    "# Download the list of the teams locations from Wikipedia\n",
    "wiki_tables = pd.read_html(wiki_url, attrs = {'class': 'wikitable'})"
   ]
  },
  {
   "cell_type": "code",
   "execution_count": null,
   "metadata": {},
   "outputs": [],
   "source": [
    "teams_locations = wiki_tables[0].droplevel(1, axis = 1)\n",
    "mask = (teams_locations['Capacity'] != 'Western Conference')\n",
    "teams_locations = teams_locations[mask].sort_values('Team').reset_index(drop = True)"
   ]
  },
  {
   "cell_type": "code",
   "execution_count": null,
   "metadata": {},
   "outputs": [],
   "source": [
    "teams_locations.to_csv(os.path.join(teams_output_folder, \n",
    "                                    'basketball_locations.csv'), \n",
    "                       index = False)"
   ]
  },
  {
   "cell_type": "code",
   "execution_count": null,
   "metadata": {},
   "outputs": [],
   "source": [
    "basketball_teams = pd.read_csv(os.path.join(teams_output_folder, 'basketball_teams.csv'))"
   ]
  },
  {
   "cell_type": "code",
   "execution_count": null,
   "metadata": {},
   "outputs": [],
   "source": [
    "pd.merge(basketball_teams, \n",
    "         teams_locations, \n",
    "         how = 'left', \n",
    "         left_on = 'name',\n",
    "         right_on = 'Team', \n",
    "         validate = 'one_to_one').shape"
   ]
  }
 ],
 "metadata": {
  "kernelspec": {
   "display_name": "Python 3",
   "language": "python",
   "name": "python3"
  },
  "language_info": {
   "codemirror_mode": {
    "name": "ipython",
    "version": 3
   },
   "file_extension": ".py",
   "mimetype": "text/x-python",
   "name": "python",
   "nbconvert_exporter": "python",
   "pygments_lexer": "ipython3",
   "version": "3.6.8"
  }
 },
 "nbformat": 4,
 "nbformat_minor": 2
}
