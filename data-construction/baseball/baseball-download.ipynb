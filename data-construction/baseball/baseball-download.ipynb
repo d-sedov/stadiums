{
 "cells": [
  {
   "cell_type": "code",
   "execution_count": null,
   "metadata": {},
   "outputs": [],
   "source": [
    "################################################################################                                                                                                                                                              \n",
    "################################################################################\n",
    "#\n",
    "# FILE: baseball-download.py\n",
    "#\n",
    "# BY: Dmitry Sedov \n",
    "#\n",
    "# CREATED: Tue Apr 14 2020\n",
    "#\n",
    "# DESC: This code downloads data about baseball teams / games from \n",
    "#       https://www.baseball-reference.com\n",
    "#\n",
    "# EXEC:\n",
    "#      \n",
    "################################################################################\n",
    "################################################################################"
   ]
  },
  {
   "cell_type": "code",
   "execution_count": null,
   "metadata": {},
   "outputs": [],
   "source": [
    "################################ Libraries #####################################\n",
    "\n",
    "import pandas as pd\n",
    "from bs4 import BeautifulSoup\n",
    "import requests\n",
    "import re\n",
    "import os\n",
    "\n",
    "################################################################################"
   ]
  },
  {
   "cell_type": "code",
   "execution_count": null,
   "metadata": {},
   "outputs": [],
   "source": [
    "################################ Constants #####################################\n",
    "\n",
    "main_url = 'https://www.baseball-reference.com'\n",
    "teams_url = 'https://www.baseball-reference.com/teams/'\n",
    "wiki_url = 'https://en.wikipedia.org/wiki/Major_League_Baseball'\n",
    "teams_output_folder = '/Users/muser/dfolder/Research/stadiums/data/baseball/teams/'\n",
    "games_output_folder = '/Users/muser/dfolder/Research/stadiums/data/baseball/games/'\n",
    "\n",
    "################################################################################"
   ]
  },
  {
   "cell_type": "code",
   "execution_count": null,
   "metadata": {},
   "outputs": [],
   "source": [
    "######################### Get list of all teams ################################\n",
    "\n",
    "teams_page = requests.get(teams_url).text\n",
    "teams_tables = pd.read_html(teams_page)\n",
    "mlb_teams = teams_tables[0].loc[teams_tables[0]['To'] == '2020'].copy()\n",
    "mlb_teams['Rk'] = mlb_teams['Rk'].astype(int)\n",
    "mlb_teams.rename(columns = {'Franchise': 'name'}, inplace = True)\n",
    "\n",
    "################################################################################"
   ]
  },
  {
   "cell_type": "code",
   "execution_count": null,
   "metadata": {},
   "outputs": [],
   "source": [
    "######################### Get links of all teams ###############################\n",
    "\n",
    "teams_soup = BeautifulSoup(teams_page, 'html.parser')\n",
    "active_teams = teams_soup.find('table', {'id': 'teams_active'})\n",
    "temp = ({'link': tag['href'], \n",
    "         'name': tag.text} for tag in active_teams.find_all('a', \n",
    "                                                            attrs = {'class': None},\n",
    "                                                            href = True))\n",
    "team_links = pd.DataFrame(temp)\n",
    "\n",
    "################################################################################"
   ]
  },
  {
   "cell_type": "code",
   "execution_count": null,
   "metadata": {},
   "outputs": [],
   "source": [
    "####################### Merge for a teams dataset ##############################\n",
    "\n",
    "mlb_teams = pd.merge(mlb_teams, \n",
    "                     team_links, \n",
    "                     how = 'outer',\n",
    "                     on = 'name', \n",
    "                     validate = 'one_to_one')\n",
    "\n",
    "# Change links for some teams\n",
    "mlb_teams.loc[mlb_teams['name'] == 'Los Angeles Angels', 'link'] = '/teams/LAA/'\n",
    "mlb_teams.loc[mlb_teams['name'] == 'Miami Marlins', 'link'] = '/teams/MIA/'\n",
    "mlb_teams.loc[mlb_teams['name'] == 'Tampa Bay Rays', 'link'] = '/teams/TBR/'\n",
    "\n",
    "################################################################################"
   ]
  },
  {
   "cell_type": "code",
   "execution_count": null,
   "metadata": {},
   "outputs": [],
   "source": [
    "####################### Function to get the stadium ############################\n",
    "\n",
    "pattern = re.compile(r'Ballpark')\n",
    "\n",
    "def get_stadium(link, year):\n",
    "    print(link)\n",
    "    team_year_url = main_url + link + str(year) + '.shtml'\n",
    "    team_year_soup = BeautifulSoup(requests.get(team_year_url).text, \n",
    "                                   'html.parser')\n",
    "    stadium = team_year_soup.find('strong',\n",
    "                                  text = pattern).next_sibling.strip()\n",
    "    return stadium\n",
    "    \n",
    "################################################################################"
   ]
  },
  {
   "cell_type": "code",
   "execution_count": null,
   "metadata": {},
   "outputs": [],
   "source": [
    "mlb_teams['stadium_2017'] = mlb_teams.apply(lambda row: get_stadium(row['link'], 2017), \n",
    "                                            axis = 1)"
   ]
  },
  {
   "cell_type": "code",
   "execution_count": null,
   "metadata": {},
   "outputs": [],
   "source": [
    "mlb_teams['stadium_2018'] = mlb_teams.apply(lambda row: get_stadium(row['link'], 2018), \n",
    "                                            axis = 1)"
   ]
  },
  {
   "cell_type": "code",
   "execution_count": null,
   "metadata": {},
   "outputs": [],
   "source": [
    "mlb_teams['stadium_2019'] = mlb_teams.apply(lambda row: get_stadium(row['link'], 2019), \n",
    "                                            axis = 1)"
   ]
  },
  {
   "cell_type": "code",
   "execution_count": null,
   "metadata": {},
   "outputs": [],
   "source": [
    "mlb_teams['code'] = mlb_teams['link'].apply(lambda x: x.split('/')[2])"
   ]
  },
  {
   "cell_type": "code",
   "execution_count": null,
   "metadata": {},
   "outputs": [],
   "source": [
    "mlb_teams.to_csv(os.path.join(teams_output_folder, 'baseball_teams.csv'), \n",
    "                 index = False)"
   ]
  },
  {
   "cell_type": "code",
   "execution_count": null,
   "metadata": {},
   "outputs": [],
   "source": [
    "######################## Function to get the games ############################\n",
    "\n",
    "def get_games(link, year):\n",
    "    team_code = link.split('/')[2]\n",
    "    print(team_code)\n",
    "    schedule_year_url = main_url + link + str(year) + '-schedule-scores.shtml'\n",
    "    schedule_tables = pd.read_html(schedule_year_url)\n",
    "    # Filter non-games rows out\n",
    "    mask = schedule_tables[0].iloc[:,0].apply(lambda x: x.isdigit())\n",
    "    schedule_table = schedule_tables[0].loc[mask].copy()\n",
    "    schedule_table['year'] = year\n",
    "    schedule_table.to_csv(os.path.join(games_output_folder, \n",
    "                                       str(year), \n",
    "                                       f'{team_code}_games.csv'), \n",
    "                          index = False)\n",
    "    return None\n",
    "    \n",
    "################################################################################"
   ]
  },
  {
   "cell_type": "code",
   "execution_count": null,
   "metadata": {},
   "outputs": [],
   "source": [
    "mlb_teams.apply(lambda row: get_games(row['link'], 2017), axis = 1)"
   ]
  },
  {
   "cell_type": "code",
   "execution_count": null,
   "metadata": {},
   "outputs": [],
   "source": [
    "mlb_teams.apply(lambda row: get_games(row['link'], 2018), axis = 1)"
   ]
  },
  {
   "cell_type": "code",
   "execution_count": null,
   "metadata": {},
   "outputs": [],
   "source": [
    "mlb_teams.apply(lambda row: get_games(row['link'], 2019), axis = 1)"
   ]
  },
  {
   "cell_type": "code",
   "execution_count": null,
   "metadata": {},
   "outputs": [],
   "source": [
    "# Download the list of the teams locations from Wikipedia\n",
    "wiki_tables = pd.read_html(wiki_url, attrs = {'class': 'wikitable'})"
   ]
  },
  {
   "cell_type": "code",
   "execution_count": null,
   "metadata": {},
   "outputs": [],
   "source": [
    "teams_locations = wiki_tables[0].droplevel(1, axis = 1)\n",
    "mask = (teams_locations['Capacity'] != 'National League')\n",
    "teams_locations = teams_locations[mask].sort_values('Team').reset_index(drop = True)"
   ]
  },
  {
   "cell_type": "code",
   "execution_count": null,
   "metadata": {},
   "outputs": [],
   "source": [
    "teams_locations.to_csv(os.path.join(teams_output_folder, \n",
    "                                    'baseball_locations.csv'), \n",
    "                       index = False)"
   ]
  },
  {
   "cell_type": "code",
   "execution_count": null,
   "metadata": {},
   "outputs": [],
   "source": [
    "mlb_teams = pd.read_csv(os.path.join(teams_output_folder, 'baseball_teams.csv'))"
   ]
  },
  {
   "cell_type": "code",
   "execution_count": null,
   "metadata": {},
   "outputs": [],
   "source": [
    "pd.merge(mlb_teams, \n",
    "         teams_locations, \n",
    "         how = 'left', \n",
    "         left_on = 'name',\n",
    "         right_on = 'Team', \n",
    "         validate = 'one_to_one').shape"
   ]
  }
 ],
 "metadata": {
  "kernelspec": {
   "display_name": "Python 3",
   "language": "python",
   "name": "python3"
  },
  "language_info": {
   "codemirror_mode": {
    "name": "ipython",
    "version": 3
   },
   "file_extension": ".py",
   "mimetype": "text/x-python",
   "name": "python",
   "nbconvert_exporter": "python",
   "pygments_lexer": "ipython3",
   "version": "3.6.9"
  }
 },
 "nbformat": 4,
 "nbformat_minor": 2
}
