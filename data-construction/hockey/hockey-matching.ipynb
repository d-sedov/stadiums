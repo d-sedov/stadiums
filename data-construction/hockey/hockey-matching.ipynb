{
 "cells": [
  {
   "cell_type": "code",
   "execution_count": null,
   "metadata": {},
   "outputs": [],
   "source": [
    "################################################################################                                                                                                                                                              \n",
    "################################################################################\n",
    "#\n",
    "# FILE: hockey-matching.ipynb\n",
    "#\n",
    "# BY: Dmitry Sedov \n",
    "#\n",
    "# CREATED: Tue Jun 2 2020\n",
    "#\n",
    "# DESC: This code matches the stadiums to Sname POI dataset.\n",
    "#\n",
    "# EXEC:\n",
    "#      \n",
    "################################################################################\n",
    "################################################################################"
   ]
  },
  {
   "cell_type": "code",
   "execution_count": null,
   "metadata": {},
   "outputs": [],
   "source": [
    "################################ Libraries #####################################\n",
    "\n",
    "from bs4 import BeautifulSoup\n",
    "import requests\n",
    "\n",
    "import re\n",
    "import os\n",
    "\n",
    "import pandas as pd\n",
    "\n",
    "from sqlalchemy.orm import sessionmaker\n",
    "import sqlalchemy as db\n",
    "import psycopg2\n",
    "\n",
    "import us\n",
    "from Levenshtein import ratio\n",
    "\n",
    "################################################################################"
   ]
  },
  {
   "cell_type": "code",
   "execution_count": null,
   "metadata": {},
   "outputs": [],
   "source": [
    "################################ Constants #####################################\n",
    "\n",
    "project_folder = '/home/user/projects/stadiums'\n",
    "teams_output_folder = os.path.join(project_folder, 'data/hockey/teams/')\n",
    "games_output_folder = os.path.join(project_folder, 'data/hockey/games/')\n",
    "\n",
    "################################################################################"
   ]
  },
  {
   "cell_type": "code",
   "execution_count": null,
   "metadata": {},
   "outputs": [],
   "source": [
    "############################ PostgreSQL connection #############################\n",
    "\n",
    "connection = psycopg2.connect(dbname = 'dataname2', \n",
    "                              user = 'user')\n",
    "cursor = connection.cursor()\n",
    "\n",
    "################################################################################"
   ]
  },
  {
   "cell_type": "code",
   "execution_count": null,
   "metadata": {},
   "outputs": [],
   "source": [
    "################################ Constants #####################################\n",
    "\n",
    "def stadium_search(name, state):\n",
    "    \"\"\" Search for a stadium in the database. \"\"\"\n",
    "    \n",
    "    search_query = f\"\"\"\n",
    "    SELECT \n",
    "        sname_place_id,\n",
    "        location_name,\n",
    "        naics_code,\n",
    "        top_category,\n",
    "        sub_category\n",
    "    FROM \n",
    "        establishments\n",
    "    WHERE\n",
    "        state = '{state}'\n",
    "        AND\n",
    "        LOWER (location_name) LIKE $$%{name.lower()}%$$\n",
    "    ;\n",
    "    \"\"\"\n",
    "    results = pd.read_sql(search_query, con = connection)\n",
    "    results['stadium'] = name\n",
    "    \n",
    "    return results\n",
    "\n",
    "def visits_exist(sname_place_id):\n",
    "    \"\"\"Determine whether visits exist for a sname_place_id. \"\"\"\n",
    "    \n",
    "    visits_exist_query = f\"\"\"\n",
    "    SELECT \n",
    "        sname_place_id \n",
    "    FROM \n",
    "        visits \n",
    "    WHERE \n",
    "        sname_place_id = '{sname_place_id}'\n",
    "    \"\"\"\n",
    "    cursor.execute(visits_exist_query)\n",
    "    return (cursor.rowcount)\n",
    "\n",
    "################################################################################"
   ]
  },
  {
   "cell_type": "code",
   "execution_count": null,
   "metadata": {},
   "outputs": [],
   "source": [
    "def find_potential_matches(row, stadium_column):\n",
    "    stadium = row[stadium_column]\n",
    "    state = row['state']\n",
    "    potential_matches = stadium_search(stadium, state)\n",
    "    potential_matches['visits_exist'] = potential_matches['sname_place_id'].apply(visits_exist)\n",
    "    potential_matches['category_correct'] = potential_matches['naics_code'].apply(lambda x: str(x).startswith('71'))\n",
    "    potential_matches['name_similarity'] = potential_matches.apply(lambda row: \n",
    "                                                               ratio(row['stadium'], row['location_name']), \n",
    "                                                               axis = 1)\n",
    "    potential_matches.sort_values(by = ['visits_exist', 'name_similarity', 'category_correct'],\n",
    "                                  ascending = [False, False, False],\n",
    "                                  inplace = True)\n",
    "    potential_matches.reset_index(inplace = True)\n",
    "    good_match = potential_matches.loc[0, ['visits_exist', \n",
    "                                           'category_correct', \n",
    "                                           'name_similarity']].to_list()\n",
    "    print(potential_matches.loc[0, 'location_name'])\n",
    "    print(good_match)\n",
    "    return(good_match[0] > 10 and good_match[1] and (good_match[2] >= 0.6))"
   ]
  },
  {
   "cell_type": "code",
   "execution_count": null,
   "metadata": {},
   "outputs": [],
   "source": [
    "############################# Import stadiums names ############################\n",
    "\n",
    "stadiums = pd.read_csv(os.path.join(teams_output_folder,\n",
    "                                    'hockey_teams.csv')\n",
    "                      )\n",
    "\n",
    "towns = pd.read_csv(os.path.join(teams_output_folder,\n",
    "                                 'hockey_locations.csv')\n",
    "                   )\n",
    "towns.rename(columns = {'City, State': 'City'}, inplace = True)\n",
    "\n",
    "towns = towns[['Team', 'City']]\n",
    "towns['Team'] = towns['Team'].replace(to_replace = 'Arizona Coyotesnb ', \n",
    "                                      value = 'Arizona Coyotes')\n",
    "towns['Team'] = towns['Team'].replace(to_replace = 'St Louis Blues', \n",
    "                                      value = 'St. Louis Blues')\n",
    "towns['City'] = towns['City'].replace(to_replace = 'New York City, New YorkUniondale, New York', \n",
    "                                      value = 'New York City, New York')\n",
    "\n",
    "stadiums = pd.merge(stadiums, \n",
    "                    towns, how = 'left', \n",
    "                    left_on = 'name', \n",
    "                    right_on = 'Team', \n",
    "                    validate = 'one_to_one')\n",
    "\n",
    "stadiums.loc[stadiums['name'] == 'Vegas Golden Knights', 'stadium_2017'] = 'T-Mobile Arena'\n",
    "\n",
    "################################################################################"
   ]
  },
  {
   "cell_type": "code",
   "execution_count": null,
   "metadata": {},
   "outputs": [],
   "source": [
    "stadiums['state'] = stadiums['City'].apply(lambda x: x.split(',')[1].strip().lower())\n",
    "stadiums['city'] = stadiums['City'].apply(lambda x: x.split(',')[0].lower())"
   ]
  },
  {
   "cell_type": "code",
   "execution_count": null,
   "metadata": {},
   "outputs": [],
   "source": [
    "for i, row in stadiums.iterrows():\n",
    "    try:\n",
    "        stadiums.loc[i, 'state'] = us.states.lookup(row['state'\n",
    "                                                       ].replace('.',\n",
    "                                                                 '')\n",
    "                                                   ).abbr.lower()\n",
    "    except AttributeError:\n",
    "        stadiums.loc[i,'state'] = None"
   ]
  },
  {
   "cell_type": "code",
   "execution_count": null,
   "metadata": {},
   "outputs": [],
   "source": [
    "# Find stadium columns\n",
    "stadium_columns = [x for x in stadiums.columns if 'stadium' in x]"
   ]
  },
  {
   "cell_type": "code",
   "execution_count": null,
   "metadata": {},
   "outputs": [],
   "source": [
    "stadiums[stadium_columns] = stadiums[stadium_columns].replace(to_replace = 'STAPLES Center', \n",
    "                                                              value = 'Staples Center')\n",
    "stadiums[stadium_columns] = stadiums[stadium_columns].replace(to_replace = 'KeyBank Center', \n",
    "                                                              value = 'First Niagara Center')\n",
    "stadiums[stadium_columns] = stadiums[stadium_columns].replace(to_replace = 'Madison Square Garden (IV)', \n",
    "                                                              value = 'Madison Square Garden')"
   ]
  },
  {
   "cell_type": "code",
   "execution_count": null,
   "metadata": {},
   "outputs": [],
   "source": [
    "# Iterate through stadium columns and find matches in SG dataset\n",
    "for stadium_column in stadium_columns:\n",
    "    y = stadium_column.split('_')[1]\n",
    "    m = f'good_match_{y}' \n",
    "    stadiums[m] = None\n",
    "    for i, row in stadiums.iterrows():\n",
    "        try:\n",
    "            stadiums.loc[i, m] = find_potential_matches(row, stadium_column)\n",
    "        except ValueError:\n",
    "            stadiums.loc[i, m] = None"
   ]
  },
  {
   "cell_type": "code",
   "execution_count": null,
   "metadata": {},
   "outputs": [],
   "source": [
    "stadiums"
   ]
  },
  {
   "cell_type": "code",
   "execution_count": null,
   "metadata": {},
   "outputs": [],
   "source": [
    "towns"
   ]
  },
  {
   "cell_type": "code",
   "execution_count": null,
   "metadata": {},
   "outputs": [],
   "source": []
  }
 ],
 "metadata": {
  "kernelspec": {
   "display_name": "Python 3",
   "language": "python",
   "name": "python3"
  },
  "language_info": {
   "codemirror_mode": {
    "name": "ipython",
    "version": 3
   },
   "file_extension": ".py",
   "mimetype": "text/x-python",
   "name": "python",
   "nbconvert_exporter": "python",
   "pygments_lexer": "ipython3",
   "version": "3.6.9"
  }
 },
 "nbformat": 4,
 "nbformat_minor": 2
}
