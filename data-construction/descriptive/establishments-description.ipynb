{
 "cells": [
  {
   "cell_type": "code",
   "execution_count": 1,
   "metadata": {},
   "outputs": [],
   "source": [
    "################################################################################                                                                                                                                                              \n",
    "################################################################################\n",
    "#\n",
    "# FILE: establishments-description.ipynb\n",
    "#\n",
    "# BY: Dmitry Sedov \n",
    "#\n",
    "# CREATED: Wed Aug 6 2020\n",
    "#\n",
    "# DESC: This code constructs a dataset with stadiums and counts (visits) of\n",
    "#       nearby establishments.\n",
    "#\n",
    "# EXEC:\n",
    "#      \n",
    "################################################################################\n",
    "################################################################################"
   ]
  },
  {
   "cell_type": "code",
   "execution_count": 2,
   "metadata": {},
   "outputs": [
    {
     "name": "stderr",
     "output_type": "stream",
     "text": [
      "/home/user/.local/lib/python3.6/site-packages/statsmodels/tools/_testing.py:19: FutureWarning: pandas.util.testing is deprecated. Use the functions in the public API at pandas.testing instead.\n",
      "  import pandas.util.testing as tm\n"
     ]
    }
   ],
   "source": [
    "################################ Libraries #####################################\n",
    "\n",
    "import sqlalchemy as db\n",
    "import pandas as pd\n",
    "\n",
    "import os\n",
    "from datetime import datetime\n",
    "\n",
    "import matplotlib.pyplot as plt\n",
    "import numpy as np\n",
    "import seaborn as sns\n",
    "\n",
    "################################################################################"
   ]
  },
  {
   "cell_type": "code",
   "execution_count": 3,
   "metadata": {},
   "outputs": [],
   "source": [
    "################################# Options ######################################\n",
    "\n",
    "pd.options.display.max_rows = 999\n",
    "\n",
    "################################################################################"
   ]
  },
  {
   "cell_type": "code",
   "execution_count": 4,
   "metadata": {},
   "outputs": [],
   "source": [
    "################################ Constants #####################################\n",
    "\n",
    "year = 2018\n",
    "project_folder = '/home/user/projects/stadiums'\n",
    "output_folder = '/home/user/projects/stadiums/data/processed/descriptive'\n",
    "\n",
    "################################################################################"
   ]
  },
  {
   "cell_type": "code",
   "execution_count": 5,
   "metadata": {},
   "outputs": [],
   "source": [
    "# Import nearby establishment counts\n",
    "def nearby_establishments(sport):\n",
    "    \"\"\"Read in the nearby establishments data for a sport.\"\"\"\n",
    "    \n",
    "    # PostgreSQL connection\n",
    "    engine = db.create_engine('postgresql://{user}:{user_pass}@{host}/{dataname2}')\n",
    "    \n",
    "    # Create the stadiums with geo table\n",
    "    create_temp_stadiums_table_with_geo = f\"\"\"\n",
    "    CREATE TEMPORARY TABLE IF NOT EXISTS stadiums_with_geo AS\n",
    "    SELECT\n",
    "        sname_place_id,\n",
    "        ST_SetSRID(ST_POINT(longitude, latitude), 4326)::geography AS s_location\n",
    "    FROM\n",
    "        stadiums\n",
    "    WHERE \n",
    "        sport = '{sport}'\n",
    "        ;\n",
    "\n",
    "    CREATE INDEX IF NOT EXISTS stadiums_with_geo_sg_idx\n",
    "    ON stadiums_with_geo (sname_place_id);\n",
    "\n",
    "    CREATE INDEX IF NOT EXISTS stadiums_with_geo_location_idx\n",
    "    ON stadiums_with_geo\n",
    "    USING GIST(s_location);\n",
    "    \"\"\"\n",
    "    \n",
    "    # Create the all-establishments with geo table\n",
    "    create_temp_places_table_with_geo = f\"\"\"\n",
    "    CREATE TEMPORARY TABLE IF NOT EXISTS places_with_geo AS\n",
    "    SELECT\n",
    "        sname_place_id,\n",
    "        naics_code / 10000 AS naics_2digit,\n",
    "        ST_SetSRID(ST_POINT(longitude, latitude), 4326)::geography AS p_location\n",
    "    FROM\n",
    "        establishments\n",
    "    UNION\n",
    "    SELECT\n",
    "        sname_place_id,\n",
    "        naics_code / 10000 AS naics_2digit,\n",
    "        ST_SetSRID(ST_POINT(longitude, latitude), 4326)::geography AS p_location\n",
    "    FROM\n",
    "        restaurants\n",
    "    ;\n",
    "    CREATE INDEX IF NOT EXISTS places_with_geo_sg_idx\n",
    "    ON places_with_geo (sname_place_id);\n",
    "\n",
    "    CREATE INDEX IF NOT EXISTS places_with_geo_location_idx\n",
    "    ON places_with_geo\n",
    "    USING GIST(p_location);\n",
    "    \"\"\"\n",
    "    \n",
    "    with engine.connect() as connection:\n",
    "        result = connection.execute(create_temp_stadiums_table_with_geo)\n",
    "    with engine.connect() as connection:\n",
    "        result = connection.execute(create_temp_places_table_with_geo)\n",
    "    \n",
    "    # Get a summary of all establishments near stadiums\n",
    "    summarize_places_close_to_stadiums = f\"\"\"\n",
    "    WITH joined_by_distance AS (\n",
    "    SELECT\n",
    "        p.sname_place_id AS place_id,\n",
    "        p.naics_2digit AS naics_2digit,\n",
    "        s.sname_place_id AS stadium_id,\n",
    "        ST_Distance(s.s_location, p.p_location) AS distance\n",
    "    FROM\n",
    "        stadiums_with_geo AS s\n",
    "    LEFT JOIN\n",
    "        places_with_geo AS p\n",
    "    ON\n",
    "        ST_DWithin(s.s_location, p.p_location, 5000)\n",
    "    AND\n",
    "        s.sname_place_id != p.sname_place_id )\n",
    "    SELECT\n",
    "        stadium_id,\n",
    "        naics_2digit,\n",
    "        distance_bin,\n",
    "        COUNT(DISTINCT place_id) AS establishment_count,\n",
    "        SUM(raw_visit_counts) AS total_establishment_visits\n",
    "    FROM\n",
    "        (SELECT \n",
    "            j.stadium_id,\n",
    "            j.place_id,\n",
    "            j.naics_2digit,\n",
    "            CASE\n",
    "                WHEN j.distance <= 1000 THEN 1\n",
    "                WHEN j.distance > 1000 AND j.distance <= 2000 THEN 2\n",
    "                WHEN j.distance > 2000 AND j.distance <= 3000 THEN 3\n",
    "                WHEN j.distance > 3000 AND j.distance <= 4000 THEN 4\n",
    "                WHEN j.distance > 4000 AND j.distance <= 5000 THEN 5\n",
    "                ELSE null\n",
    "            END AS distance_bin,\n",
    "            v.raw_visit_counts\n",
    "        FROM\n",
    "            joined_by_distance AS j\n",
    "        LEFT JOIN\n",
    "            visits AS v\n",
    "        ON\n",
    "            j.place_id = v.sname_place_id\n",
    "        AND\n",
    "            year = {year}\n",
    "        ) t\n",
    "    GROUP BY\n",
    "        stadium_id, naics_2digit, distance_bin\n",
    "    ;\n",
    "    \"\"\"\n",
    "    \n",
    "    # Get the establishment count (visits) by industry and distance bin\n",
    "    results = pd.read_sql(summarize_places_close_to_stadiums, con = engine)\n",
    "    engine.dispose()\n",
    "    \n",
    "    return results"
   ]
  },
  {
   "cell_type": "code",
   "execution_count": 8,
   "metadata": {},
   "outputs": [],
   "source": [
    "########################## Baseball stadiums localities ########################\n",
    "\n",
    "baseball_establishments = nearby_establishments('baseball')\n",
    "\n",
    "################################################################################"
   ]
  },
  {
   "cell_type": "code",
   "execution_count": 10,
   "metadata": {},
   "outputs": [],
   "source": [
    "######################## Am. football stadiums localities ######################\n",
    "\n",
    "football_establishments = nearby_establishments('football')\n",
    "\n",
    "################################################################################"
   ]
  },
  {
   "cell_type": "code",
   "execution_count": 6,
   "metadata": {},
   "outputs": [],
   "source": [
    "########################## Baseball stadiums localities ########################\n",
    "\n",
    "basketball_establishments = nearby_establishments('basketball')\n",
    "\n",
    "################################################################################"
   ]
  },
  {
   "cell_type": "code",
   "execution_count": 12,
   "metadata": {},
   "outputs": [],
   "source": [
    "########################## Baseball stadiums localities ########################\n",
    "\n",
    "hockey_establishments = nearby_establishments('hockey')\n",
    "\n",
    "################################################################################"
   ]
  },
  {
   "cell_type": "code",
   "execution_count": 9,
   "metadata": {},
   "outputs": [],
   "source": [
    "baseball_establishments['sports'] = 'baseball'\n",
    "baseball_establishments_path = os.path.join(output_folder, \n",
    "                                            f'baseball_establishments_{year}.csv')\n",
    "baseball_establishments.to_csv(path_or_buf = baseball_establishments_path,\n",
    "                               index = False)"
   ]
  },
  {
   "cell_type": "code",
   "execution_count": 11,
   "metadata": {},
   "outputs": [],
   "source": [
    "football_establishments['sports'] = 'football'\n",
    "football_establishments_path = os.path.join(output_folder, \n",
    "                                            f'football_establishments_{year}.csv')\n",
    "football_establishments.to_csv(path_or_buf = football_establishments_path,\n",
    "                               index = False)"
   ]
  },
  {
   "cell_type": "code",
   "execution_count": 7,
   "metadata": {},
   "outputs": [],
   "source": [
    "basketball_establishments['sports'] = 'basketball'\n",
    "basketball_establishments_path = os.path.join(output_folder,\n",
    "                                              f'basketball_establishments_{year}.csv')\n",
    "basketball_establishments.to_csv(path_or_buf = basketball_establishments_path,\n",
    "                               index = False)"
   ]
  },
  {
   "cell_type": "code",
   "execution_count": 13,
   "metadata": {},
   "outputs": [],
   "source": [
    "hockey_establishments['sports'] = 'hockey'\n",
    "hockey_establishments_path = os.path.join(output_folder,\n",
    "                                          f'hockey_establishments_{year}.csv')\n",
    "hockey_establishments.to_csv(path_or_buf = hockey_establishments_path,\n",
    "                             index = False)"
   ]
  }
 ],
 "metadata": {
  "kernelspec": {
   "display_name": "Python 3",
   "language": "python",
   "name": "python3"
  },
  "language_info": {
   "codemirror_mode": {
    "name": "ipython",
    "version": 3
   },
   "file_extension": ".py",
   "mimetype": "text/x-python",
   "name": "python",
   "nbconvert_exporter": "python",
   "pygments_lexer": "ipython3",
   "version": "3.6.9"
  }
 },
 "nbformat": 4,
 "nbformat_minor": 2
}
