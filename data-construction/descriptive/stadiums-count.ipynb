{
 "cells": [
  {
   "cell_type": "code",
   "execution_count": 1,
   "metadata": {},
   "outputs": [],
   "source": [
    "################################################################################                                                                                                                                                              \n",
    "################################################################################\n",
    "#\n",
    "# FILE: stadiums-count.ipynb\n",
    "#\n",
    "# BY: Dmitry Sedov \n",
    "#\n",
    "# CREATED: Tue Sep 22 2020\n",
    "#\n",
    "# DESC: This code counts stadiums in use across different sports in 2018.\n",
    "#\n",
    "# EXEC:\n",
    "#      \n",
    "################################################################################\n",
    "################################################################################"
   ]
  },
  {
   "cell_type": "code",
   "execution_count": 2,
   "metadata": {},
   "outputs": [],
   "source": [
    "################################ Libraries #####################################\n",
    "\n",
    "import pandas as pd\n",
    "import os\n",
    "\n",
    "################################################################################"
   ]
  },
  {
   "cell_type": "code",
   "execution_count": 3,
   "metadata": {},
   "outputs": [],
   "source": [
    "################################ Constants #####################################\n",
    "\n",
    "year = 2018\n",
    "project_folder = '/home/user/projects/stadiums'\n",
    "stadium_column_name = f'stadium_{year}'\n",
    "\n",
    "################################################################################"
   ]
  },
  {
   "cell_type": "code",
   "execution_count": 4,
   "metadata": {},
   "outputs": [
    {
     "data": {
      "text/plain": [
       "30"
      ]
     },
     "execution_count": 4,
     "metadata": {},
     "output_type": "execute_result"
    }
   ],
   "source": [
    "############################# Baseball stadiums ################################\n",
    "\n",
    "# Set paths\n",
    "teams_output_folder = os.path.join(project_folder, 'data/input/baseball/teams/')\n",
    "games_output_folder = os.path.join(project_folder, 'data/input/baseball/games/')\n",
    "\n",
    "# Import stadiums, capacity, matching of stadiums and sname place ids\n",
    "stadiums = pd.read_csv(os.path.join(teams_output_folder,\n",
    "                                    'baseball_teams.csv'),\n",
    "                       usecols = ['name', 'code', stadium_column_name]\n",
    "                      )\n",
    "stadiums[stadium_column_name].nunique()\n",
    "\n",
    "################################################################################"
   ]
  },
  {
   "cell_type": "code",
   "execution_count": 5,
   "metadata": {},
   "outputs": [
    {
     "data": {
      "text/plain": [
       "31"
      ]
     },
     "execution_count": 5,
     "metadata": {},
     "output_type": "execute_result"
    }
   ],
   "source": [
    "########################## Am. football stadiums ###############################\n",
    "\n",
    "# Set paths\n",
    "teams_output_folder = os.path.join(project_folder, 'data/input/football/teams/')\n",
    "games_output_folder = os.path.join(project_folder, 'data/input/football/games/')\n",
    "\n",
    "# Import stadiums, capacity, matching of stadiums and sname place ids\n",
    "stadiums = pd.read_csv(os.path.join(teams_output_folder,\n",
    "                                    'football_teams.csv'),\n",
    "                       usecols = ['name', 'code', stadium_column_name]\n",
    "                      )\n",
    "\n",
    "stadiums[stadium_column_name].nunique()\n",
    "\n",
    "################################################################################"
   ]
  },
  {
   "cell_type": "code",
   "execution_count": 6,
   "metadata": {},
   "outputs": [
    {
     "data": {
      "text/plain": [
       "29"
      ]
     },
     "execution_count": 6,
     "metadata": {},
     "output_type": "execute_result"
    }
   ],
   "source": [
    "########################### Basketball stadiums ################################\n",
    "\n",
    "# Set paths\n",
    "teams_output_folder = os.path.join(project_folder, 'data/input/basketball/teams/')\n",
    "games_output_folder = os.path.join(project_folder, 'data/input/basketball/games/')\n",
    "\n",
    "# Import stadiums, matching of stadiums and sname place ids\n",
    "stadiums = pd.read_csv(os.path.join(teams_output_folder,\n",
    "                                    'basketball_teams.csv'),\n",
    "                       usecols = ['name', 'code', stadium_column_name]\n",
    "                      )\n",
    "\n",
    "stadiums[stadium_column_name].nunique()\n",
    "\n",
    "################################################################################"
   ]
  },
  {
   "cell_type": "code",
   "execution_count": 7,
   "metadata": {},
   "outputs": [
    {
     "data": {
      "text/plain": [
       "31"
      ]
     },
     "execution_count": 7,
     "metadata": {},
     "output_type": "execute_result"
    }
   ],
   "source": [
    "############################# Hockey stadiums ##################################\n",
    "\n",
    "# Set paths\n",
    "teams_output_folder = os.path.join(project_folder, 'data/input/hockey/teams/')\n",
    "games_output_folder = os.path.join(project_folder, 'data/input/hockey/games/')\n",
    "\n",
    "# Import stadiums, matching of stadiums and sname place ids\n",
    "stadiums = pd.read_csv(os.path.join(teams_output_folder,\n",
    "                                    'hockey_teams.csv'),\n",
    "                       usecols = ['name', 'code', stadium_column_name]\n",
    "                      )\n",
    "\n",
    "stadiums[stadium_column_name].nunique()\n",
    "\n",
    "################################################################################"
   ]
  }
 ],
 "metadata": {
  "kernelspec": {
   "display_name": "Python 3",
   "language": "python",
   "name": "python3"
  },
  "language_info": {
   "codemirror_mode": {
    "name": "ipython",
    "version": 3
   },
   "file_extension": ".py",
   "mimetype": "text/x-python",
   "name": "python",
   "nbconvert_exporter": "python",
   "pygments_lexer": "ipython3",
   "version": "3.6.9"
  }
 },
 "nbformat": 4,
 "nbformat_minor": 4
}
